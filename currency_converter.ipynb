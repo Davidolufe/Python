{
 "cells": [
  {
   "cell_type": "code",
   "execution_count": 5,
   "id": "01f99605-b6a1-42a1-9cdb-5c98d5b0bddf",
   "metadata": {},
   "outputs": [
    {
     "name": "stdout",
     "output_type": "stream",
     "text": [
      "USD 100 is equal to:\n",
      "- EUR 85.0\n",
      "- GBP 72.0\n",
      "- JPY 11045.0\n"
     ]
    }
   ],
   "source": [
    "# Exchange rates\n",
    "USD_TO_EUR = 0.85\n",
    "USD_TO_GBP = 0.72\n",
    "USD_TO_JPY = 110.45\n",
    "\n",
    "def convert_usd_to_eur(amount):\n",
    "    return amount * USD_TO_EUR\n",
    "\n",
    "def convert_usd_to_gbp(amount):\n",
    "    return amount * USD_TO_GBP\n",
    "\n",
    "def convert_usd_to_jpy(amount):\n",
    "    return amount * USD_TO_JPY\n",
    "\n",
    "def main():\n",
    "    usd_amount = 100\n",
    "    \n",
    "    eur_amount = convert_usd_to_eur(usd_amount)\n",
    "    gbp_amount = convert_usd_to_gbp(usd_amount)\n",
    "    jpy_amount = convert_usd_to_jpy(usd_amount)\n",
    "    \n",
    "    print(f\"USD {usd_amount} is equal to:\")\n",
    "    print(f\"- EUR {eur_amount}\")\n",
    "    print(f\"- GBP {gbp_amount}\")\n",
    "    print(f\"- JPY {jpy_amount}\")\n",
    "\n",
    "if __name__ == \"__main__\":\n",
    "    main()"
   ]
  },
  {
   "cell_type": "code",
   "execution_count": null,
   "id": "da73f9d2-83ab-4869-b208-2a9188f505e4",
   "metadata": {},
   "outputs": [],
   "source": []
  }
 ],
 "metadata": {
  "kernelspec": {
   "display_name": "Python 3 (ipykernel)",
   "language": "python",
   "name": "python3"
  },
  "language_info": {
   "codemirror_mode": {
    "name": "ipython",
    "version": 3
   },
   "file_extension": ".py",
   "mimetype": "text/x-python",
   "name": "python",
   "nbconvert_exporter": "python",
   "pygments_lexer": "ipython3",
   "version": "3.12.4"
  }
 },
 "nbformat": 4,
 "nbformat_minor": 5
}
